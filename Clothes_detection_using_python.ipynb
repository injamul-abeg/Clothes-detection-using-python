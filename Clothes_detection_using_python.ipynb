{
  "nbformat": 4,
  "nbformat_minor": 0,
  "metadata": {
    "colab": {
      "name": "Clothes detection using python.ipynb",
      "provenance": [],
      "collapsed_sections": []
    },
    "kernelspec": {
      "name": "python3",
      "display_name": "Python 3"
    },
    "language_info": {
      "name": "python"
    }
  },
  "cells": [
    {
      "cell_type": "code",
      "metadata": {
        "colab": {
          "base_uri": "https://localhost:8080/"
        },
        "id": "unVOBFq-MXKO",
        "outputId": "975c645f-cbb5-410c-e612-0597b689548f"
      },
      "source": [
        "import tensorflow as tf\n",
        "print(tf.__version__)"
      ],
      "execution_count": 1,
      "outputs": [
        {
          "output_type": "stream",
          "text": [
            "2.4.1\n"
          ],
          "name": "stdout"
        }
      ]
    },
    {
      "cell_type": "code",
      "metadata": {
        "id": "mHSnzalSMiM6"
      },
      "source": [
        "mnist = tf.keras.datasets.fashion_mnist"
      ],
      "execution_count": 2,
      "outputs": []
    },
    {
      "cell_type": "code",
      "metadata": {
        "colab": {
          "base_uri": "https://localhost:8080/"
        },
        "id": "Yp6rdoNZNBtq",
        "outputId": "5fbbac7a-8cf4-483c-f068-01ee6df959c4"
      },
      "source": [
        "(training_images, training_labels), (test_images, test_labels) = mnist.load_data()"
      ],
      "execution_count": 3,
      "outputs": [
        {
          "output_type": "stream",
          "text": [
            "Downloading data from https://storage.googleapis.com/tensorflow/tf-keras-datasets/train-labels-idx1-ubyte.gz\n",
            "32768/29515 [=================================] - 0s 0us/step\n",
            "Downloading data from https://storage.googleapis.com/tensorflow/tf-keras-datasets/train-images-idx3-ubyte.gz\n",
            "26427392/26421880 [==============================] - 0s 0us/step\n",
            "Downloading data from https://storage.googleapis.com/tensorflow/tf-keras-datasets/t10k-labels-idx1-ubyte.gz\n",
            "8192/5148 [===============================================] - 0s 0us/step\n",
            "Downloading data from https://storage.googleapis.com/tensorflow/tf-keras-datasets/t10k-images-idx3-ubyte.gz\n",
            "4423680/4422102 [==============================] - 0s 0us/step\n"
          ],
          "name": "stdout"
        }
      ]
    },
    {
      "cell_type": "code",
      "metadata": {
        "colab": {
          "base_uri": "https://localhost:8080/",
          "height": 758
        },
        "id": "TsTokrppP7_v",
        "outputId": "da5bb9a7-20c8-4301-f260-6da90831e7c4"
      },
      "source": [
        "import numpy as np\n",
        "np.set_printoptions(linewidth=200)\n",
        "import matplotlib.pyplot as plt\n",
        "plt.imshow(training_images[20])\n",
        "print(training_labels[20])\n",
        "print(training_images[20])"
      ],
      "execution_count": 4,
      "outputs": [
        {
          "output_type": "stream",
          "text": [
            "3\n",
            "[[  0   0   0   0   0   1   0   0   0  65  99   0   0   0   0   0   0   0 106  60   0   0   0   0   0   0   0   0]\n",
            " [  0   0   0   0   0   1   0  17 190 206 202 145 148 146 148 166 165 189 212 210 202   0   0   0   0   0   0   0]\n",
            " [  0   0   0   0   0   0   0 160 229 193 189 197 169 182 109 165 156 202 198 196 233  96   0   0   0   0   0   0]\n",
            " [  0   0   0   0   0   0   2 199 198 213 193 201 207 196 172 211 206 207 200 202 208 217   0   0   0   0   0   0]\n",
            " [  0   0   0   0   0   0 139 205 200 207 190 192 210 210 208 212 208 197 201 210 206 205  83   0   0   0   0   0]\n",
            " [  0   0   0   0   0   2 196 220 200 200 190 193 199 222 222 225 199 198 210 212 218 227 189   0   0   0   0   0]\n",
            " [  0   0   0   0   0   0   0 162 215 199 192 196 195 204 221 200 195 205 208 218 235 170   0   0   0   0   0   0]\n",
            " [  0   0   0   0   0   0   0   0 172 240 192 204 203 206 203 199 206 215 211 232 114   0   0   0   0   0   0   0]\n",
            " [  0   0   0   0   0   0   2   0   0  32 235 200 206 208 205 204 208 215 252  10   0   0   0   0   0   0   0   0]\n",
            " [  0   0   0   0   0   1   0   3   0  12 247 201 208 210 206 208 211 216 255   0   0   0   0   0   0   0   0   0]\n",
            " [  0   0   0   0   0   0   0   2   0   5 247 205 214 207 208 211 211 220 251   0   0   1   0   0   0   0   0   0]\n",
            " [  0   0   0   0   0   0   0   1   0   0 241 210 210 207 213 214 211 222 241   0   0   1   0   0   0   0   0   0]\n",
            " [  0   0   0   0   0   0   1   0   0   0 202 217 206 211 216 219 212 226 226   0   0   1   0   0   0   0   0   0]\n",
            " [  0   0   0   0   0   1   0   0   0   0 214 213 208 204 223 210 213 216 213  17   0   2   0   0   0   0   0   0]\n",
            " [  0   0   0   0   0   0   0   2   0  99 218 202 211 205 220 205 215 205 229 152   0   0   0   0   0   0   0   0]\n",
            " [  0   0   0   0   0   0   0   1   0 165 214 204 211 213 214 211 217 208 219 203   0   0   0   0   0   0   0   0]\n",
            " [  0   0   0   0   0   0   0   0   0 188 213 208 206 212 218 208 216 204 218 197   0   0   2   0   0   0   0   0]\n",
            " [  0   0   0   0   0   0   1   0   0 213 210 216 204 214 217 205 217 208 215 212   2   0   2   0   0   0   0   0]\n",
            " [  0   0   0   0   0   0   2   0   0 225 210 219 201 214 218 205 216 207 214 221  17   0   2   0   0   0   0   0]\n",
            " [  0   0   0   0   0   0   2   0   0 197 211 215 200 216 219 210 215 208 213 227  35   0   2   0   0   0   0   0]\n",
            " [  0   0   0   0   0   0   3   0   3 206 210 219 199 215 222 210 215 211 211 228  60   0   2   0   0   0   0   0]\n",
            " [  0   0   0   0   0   0   2   0  11 208 211 220 200 215 223 211 214 212 210 229  69   0   2   0   0   0   0   0]\n",
            " [  0   0   0   0   0   0   2   0   7 207 213 218 201 216 222 214 213 213 211 228  61   0   2   0   0   0   0   0]\n",
            " [  0   0   0   0   0   0   2   0   0 203 215 217 201 216 222 213 213 213 212 228  47   0   3   0   0   0   0   0]\n",
            " [  0   0   0   0   0   0   2   0   0 196 218 216 201 216 223 214 212 215 214 226  27   0   2   0   0   0   0   0]\n",
            " [  0   0   0   0   0   0   2   0   0 221 221 212 202 216 222 216 212 213 212 221  17   0   3   0   0   0   0   0]\n",
            " [  0   0   0   0   0   0   1   0   0 203 227 212 213 228 235 229 226 226 217 225  17   0   2   0   0   0   0   0]\n",
            " [  0   0   0   0   0   0   0   0   0 176 216 202 184 178 188 184 185 183 199 207   3   0   2   0   0   0   0   0]]\n"
          ],
          "name": "stdout"
        },
        {
          "output_type": "display_data",
          "data": {
            "image/png": "[encoded data removed]",
            "text/plain": [
              "<Figure size 432x288 with 1 Axes>"
            ]
          },
          "metadata": {
            "tags": [],
            "needs_background": "light"
          }
        }
      ]
    },
    {
      "cell_type": "code",
      "metadata": {
        "id": "1SmasxXNRMil"
      },
      "source": [
        "training_images  = training_images / 255.0\n",
        "test_images = test_images / 255.0"
      ],
      "execution_count": 5,
      "outputs": []
    },
    {
      "cell_type": "code",
      "metadata": {
        "id": "Lzg-pFBGTBBS"
      },
      "source": [
        "model = tf.keras.models.Sequential([tf.keras.layers.Flatten(), \n",
        "                                    tf.keras.layers.Dense(128, activation=tf.nn.relu), \n",
        "                                    tf.keras.layers.Dense(10, activation=tf.nn.softmax)])"
      ],
      "execution_count": 6,
      "outputs": []
    },
    {
      "cell_type": "code",
      "metadata": {
        "colab": {
          "base_uri": "https://localhost:8080/"
        },
        "id": "g35FgHUqU9o-",
        "outputId": "19c42dbe-f853-41d2-ce7f-4054fea0edb7"
      },
      "source": [
        "model.compile(optimizer = tf.optimizers.Adam(),\n",
        "              loss = 'sparse_categorical_crossentropy',\n",
        "              metrics=['accuracy'])\n",
        "\n",
        "model.fit(training_images, training_labels, epochs=5)"
      ],
      "execution_count": 7,
      "outputs": [
        {
          "output_type": "stream",
          "text": [
            "Epoch 1/5\n",
            "1875/1875 [==============================] - 5s 2ms/step - loss: 0.6209 - accuracy: 0.7833\n",
            "Epoch 2/5\n",
            "1875/1875 [==============================] - 4s 2ms/step - loss: 0.3828 - accuracy: 0.8639\n",
            "Epoch 3/5\n",
            "1875/1875 [==============================] - 4s 2ms/step - loss: 0.3373 - accuracy: 0.8776\n",
            "Epoch 4/5\n",
            "1875/1875 [==============================] - 4s 2ms/step - loss: 0.3111 - accuracy: 0.8849\n",
            "Epoch 5/5\n",
            "1875/1875 [==============================] - 4s 2ms/step - loss: 0.2965 - accuracy: 0.8891\n"
          ],
          "name": "stdout"
        },
        {
          "output_type": "execute_result",
          "data": {
            "text/plain": [
              "<tensorflow.python.keras.callbacks.History at 0x7ff61853f790>"
            ]
          },
          "metadata": {
            "tags": []
          },
          "execution_count": 7
        }
      ]
    },
    {
      "cell_type": "code",
      "metadata": {
        "colab": {
          "base_uri": "https://localhost:8080/"
        },
        "id": "joaXuCC1V-w1",
        "outputId": "98d209c3-2c81-461b-e501-7a3951fd209a"
      },
      "source": [
        "model.evaluate(test_images, test_labels)"
      ],
      "execution_count": 8,
      "outputs": [
        {
          "output_type": "stream",
          "text": [
            "313/313 [==============================] - 1s 1ms/step - loss: 0.3341 - accuracy: 0.8790\n"
          ],
          "name": "stdout"
        },
        {
          "output_type": "execute_result",
          "data": {
            "text/plain": [
              "[0.33406275510787964, 0.8790000081062317]"
            ]
          },
          "metadata": {
            "tags": []
          },
          "execution_count": 8
        }
      ]
    }
  ]
}